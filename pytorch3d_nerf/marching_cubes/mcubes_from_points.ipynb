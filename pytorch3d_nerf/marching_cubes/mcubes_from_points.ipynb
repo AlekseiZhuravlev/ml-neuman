{
 "cells": [
  {
   "cell_type": "code",
   "execution_count": null,
   "metadata": {
    "collapsed": true,
    "ExecuteTime": {
     "start_time": "2023-08-08T16:18:16.322776Z",
     "end_time": "2023-08-08T16:18:23.839076Z"
    }
   },
   "outputs": [],
   "source": [
    "import sys\n",
    "sys.path.append(\"/home/azhuavlev/PycharmProjects/ml-neuman_mano/pytorch3d_nerf\")\n",
    "\n",
    "%load_ext autoreload\n",
    "%autoreload 2\n",
    "\n",
    "import lightning as L\n",
    "from lightning.pytorch.loggers import TensorBoardLogger\n",
    "from torch.utils.data import DataLoader\n",
    "\n",
    "import glob\n",
    "import os\n",
    "import glob\n",
    "import json\n",
    "import math\n",
    "import matplotlib.pyplot as plt\n",
    "import numpy as np\n",
    "import os\n",
    "import pytorch3d\n",
    "import sys\n",
    "import time\n",
    "import torch\n",
    "from IPython import display\n",
    "from PIL import Image\n",
    "from pytorch3d.renderer import (\n",
    "    FoVPerspectiveCameras,\n",
    "    NDCMultinomialRaysampler,\n",
    "    MonteCarloRaysampler,\n",
    "    EmissionAbsorptionRaymarcher,\n",
    "    ImplicitRenderer,\n",
    "    RayBundle,\n",
    "    ray_bundle_to_ray_points,\n",
    ")\n",
    "# Data structures and functions for rendering\n",
    "from pytorch3d.structures import Volumes\n",
    "from pytorch3d.transforms import so3_exp_map\n",
    "from tqdm import tqdm\n",
    "\n",
    "from datasets import dataset_extr_to_mano, dataset_canonical_space\n",
    "import lighning_models\n",
    "\n",
    "from nerf_models import nerf_big_no_warp\n",
    "\n",
    "device = 'cuda' if torch.cuda.is_available() else 'cpu'"
   ]
  },
  {
   "cell_type": "code",
   "execution_count": null,
   "outputs": [],
   "source": [
    "# disable pytorch gradient computation\n",
    "torch.set_grad_enabled(False)\n",
    "\n",
    "data_path = '/home/azhuavlev/Desktop/Data/InterHand_Neuman/03'\n",
    "all_ids = list(range(len(glob.glob(os.path.join(data_path, 'cameras', '*.json')))))\n",
    "\n",
    "# use 80% of the data for training, randomize the order\n",
    "np.random.shuffle(all_ids)\n",
    "train_ids = all_ids[:int(0.6 * len(all_ids))]\n",
    "test_ids = all_ids[int(0.6 * len(all_ids)):]\n",
    "print(test_ids)\n",
    "\n",
    "train_dataset = dataset_extr_to_mano.NeumanDataset(data_path, train_ids)\n",
    "test_dataset = dataset_extr_to_mano.NeumanDataset(data_path, test_ids)\n",
    "full_dataset = dataset_extr_to_mano.NeumanDataset(data_path, all_ids)\n",
    "\n",
    "# We sample 6 random cameras in a minibatch.\n",
    "batch_size = 1\n",
    "\n",
    "train_loader = DataLoader(train_dataset, batch_size=batch_size, shuffle=True, num_workers=5)\n",
    "test_loader = DataLoader(test_dataset, batch_size=batch_size, shuffle=False)\n",
    "full_loader = DataLoader(full_dataset, batch_size=batch_size, shuffle=False)"
   ],
   "metadata": {
    "collapsed": false,
    "ExecuteTime": {
     "start_time": "2023-08-08T16:18:23.844035Z",
     "end_time": "2023-08-08T16:18:30.283915Z"
    }
   }
  },
  {
   "cell_type": "code",
   "execution_count": null,
   "outputs": [],
   "source": [
    "field = nerf_big_no_warp.NeuralRadianceField()\n",
    "\n",
    "# ckpt_path = '/itet-stor/azhuavlev/net_scratch/Projects/Results/neuman_custom/lightning_logs/big_sil_loss_1000_mask_0.05_dilation_10_sampling_4096_64_depth_105_huber_mask_huber/checkpoints/epoch=1999-step=42000.ckpt'\n",
    "# ckpt_path = '/itet-stor/azhuavlev/net_scratch/Projects/Results/neuman_custom/lightning_logs/big_clipped_sil_loss_99999_lr_99999_mask_1_dilation_10_sampling_8192_32_depth_105_huber_mask_huber/checkpoints/epoch=9999-step=210000.ckpt'\n",
    "# ckpt_path = '/home/azhuavlev/Desktop/Results/neuman_custom/lightning_logs/small_warp_clipped_sil_loss_99999_lr_99999_mask_0.3_dilation_10_sampling_8192_32_depth_105_huber/checkpoints/epoch=2199-step=79200.ckpt'\n",
    "ckpt_path = '/home/azhuavlev/Desktop/Results/neuman_custom/lightning_logs/big_allLosses/checkpoints/epoch=5999-step=126000.ckpt'\n",
    "\n",
    "model = lighning_models.HandModel(nerf_model=field).load_from_checkpoint(ckpt_path,\n",
    "                                                                                             dataset=full_loader,\n",
    "                                                                                             nerf_model=field)\n",
    "model = model.to('cuda')"
   ],
   "metadata": {
    "collapsed": false,
    "ExecuteTime": {
     "start_time": "2023-08-08T16:18:30.282674Z",
     "end_time": "2023-08-08T16:18:30.424023Z"
    }
   }
  },
  {
   "cell_type": "code",
   "execution_count": null,
   "outputs": [],
   "source": [
    "# generate points in 3d space between -0.3 and 0.3\n",
    "with torch.no_grad():\n",
    "    point_cloud = torch.linspace(-0.1, 0.2, 400, device='cpu')\n",
    "    points = torch.stack(torch.meshgrid(point_cloud, point_cloud, point_cloud), dim=-1).reshape(1, 1, -1, 1, 3)\n",
    "    # directions = torch.zeros(1, 1, points.shape[2], 3, device = points.device)\n",
    "    directions = torch.ones_like(points)\n",
    "print('points', points.shape)\n",
    "print('directions', directions.shape)"
   ],
   "metadata": {
    "collapsed": false,
    "ExecuteTime": {
     "start_time": "2023-08-08T16:18:30.421751Z",
     "end_time": "2023-08-08T16:18:30.696214Z"
    }
   }
  },
  {
   "cell_type": "code",
   "execution_count": null,
   "outputs": [],
   "source": [
    "from tqdm import tqdm\n",
    "# iterate over points in chunks of 1000000:\n",
    "rays_densities = torch.tensor([], device='cpu')\n",
    "rays_colors = torch.tensor([], device='cpu')\n",
    "\n",
    "with torch.no_grad():\n",
    "    for i in tqdm(range(0, points.shape[2], 1000000)):\n",
    "        points_batch = points[:, :, i:i+1000000,:,  :].to('cuda')\n",
    "        directions_batch = directions[:, :, i:i+1000000, :].to('cuda')\n",
    "        rays_densities_batch, rays_colors_batch = model.get_nerf_output_canonical(points_batch, directions_batch)\n",
    "\n",
    "        rays_densities = torch.cat((rays_densities, rays_densities_batch.cpu()), dim=2)\n",
    "        rays_colors = torch.cat((rays_colors, rays_colors_batch.cpu()), dim=2)"
   ],
   "metadata": {
    "collapsed": false,
    "ExecuteTime": {
     "start_time": "2023-08-08T16:18:30.694736Z",
     "end_time": "2023-08-08T16:18:57.671003Z"
    }
   }
  },
  {
   "cell_type": "code",
   "execution_count": null,
   "outputs": [],
   "source": [
    "densities_numpy = rays_densities.cpu().numpy()\n",
    "for i in [0.01, 0.1, 0.3, 0.5, 0.9]:\n",
    "    print(f'fraction occupied > {i:.2f} - {np.mean(densities_numpy > i) * 100:.1f}%')"
   ],
   "metadata": {
    "collapsed": false,
    "ExecuteTime": {
     "start_time": "2023-08-08T16:18:57.672764Z",
     "end_time": "2023-08-08T16:18:58.221426Z"
    }
   }
  },
  {
   "cell_type": "code",
   "execution_count": null,
   "outputs": [],
   "source": [
    "import trimesh\n",
    "\n",
    "points_reshaped = points.reshape(-1, 3)\n",
    "rays_colors_reshaped = rays_colors.reshape(-1, 3)\n",
    "rays_densities_reshaped = rays_densities.reshape(-1, 1)\n",
    "\n",
    "threshold = 0.01\n",
    "\n",
    "points_reshaped = points_reshaped[rays_densities.reshape(-1) > threshold].cpu().numpy()\n",
    "rays_colors_reshaped = rays_colors_reshaped[rays_densities.reshape(-1) > threshold].cpu().numpy()\n",
    "rays_densities_reshaped = rays_densities_reshaped[rays_densities.reshape(-1) > threshold].cpu().numpy()\n",
    "\n",
    "# print('rays_densities_reshaped.shape', rays_densities_reshaped.shape, rays_densities_reshaped.dtype, rays_densities_reshaped.min(), rays_densities_reshaped.max())\n",
    "# print('rays_colors_reshaped.shape', rays_colors_reshaped.shape, rays_colors_reshaped.dtype, rays_colors_reshaped.min(), rays_colors_reshaped.max())\n",
    "rays_colors_rgba = np.concatenate((rays_colors_reshaped, rays_densities_reshaped), axis=1)\n",
    "\n",
    "# convert colors from [0, 1] to [0, 255]\n",
    "rays_colors_rgba = rays_colors_rgba * 255\n",
    "rays_colors_rgba = rays_colors_rgba.astype(np.uint8)\n",
    "\n",
    "point_cloud = trimesh.PointCloud(points_reshaped, colors=rays_colors_rgba)\n",
    "\n",
    "scene = trimesh.Scene()\n",
    "scene.add_geometry(point_cloud)\n",
    "# show coordinate axes\n",
    "scene.add_geometry(trimesh.creation.axis(axis_length=0.15, axis_radius = 0.001, origin_size=0.001))\n",
    "\n",
    "scene.show()"
   ],
   "metadata": {
    "collapsed": false,
    "ExecuteTime": {
     "start_time": "2023-08-08T16:18:58.221731Z",
     "end_time": "2023-08-08T16:19:00.418275Z"
    }
   }
  },
  {
   "cell_type": "code",
   "execution_count": null,
   "outputs": [],
   "source": [
    "from skimage import measure\n",
    "from skimage.draw import ellipsoid\n",
    "import trimesh\n",
    "\n",
    "rays_densities_xyz = rays_densities.reshape(400, 400, 400)\n",
    "verts, faces, normals, values = measure.marching_cubes(rays_densities_xyz.cpu().numpy(), 0.01)\n",
    "mesh = trimesh.Trimesh(vertices=verts, faces=faces)\n",
    "\n",
    "# display mesh\n",
    "mesh.show()"
   ],
   "metadata": {
    "collapsed": false,
    "ExecuteTime": {
     "start_time": "2023-08-08T16:19:01.227920Z",
     "end_time": "2023-08-08T16:19:03.081237Z"
    }
   }
  },
  {
   "cell_type": "code",
   "execution_count": null,
   "outputs": [],
   "source": [],
   "metadata": {
    "collapsed": false,
    "ExecuteTime": {
     "start_time": "2023-08-08T16:19:03.081334Z",
     "end_time": "2023-08-08T16:19:03.081377Z"
    }
   }
  }
 ],
 "metadata": {
  "kernelspec": {
   "display_name": "Python 3",
   "language": "python",
   "name": "python3"
  },
  "language_info": {
   "codemirror_mode": {
    "name": "ipython",
    "version": 2
   },
   "file_extension": ".py",
   "mimetype": "text/x-python",
   "name": "python",
   "nbconvert_exporter": "python",
   "pygments_lexer": "ipython2",
   "version": "2.7.6"
  }
 },
 "nbformat": 4,
 "nbformat_minor": 0
}
