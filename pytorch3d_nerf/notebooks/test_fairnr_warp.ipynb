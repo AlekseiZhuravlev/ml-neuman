{
 "cells": [
  {
   "cell_type": "code",
   "execution_count": 1,
   "metadata": {
    "collapsed": true,
    "ExecuteTime": {
     "start_time": "2023-09-03T12:39:50.557443Z",
     "end_time": "2023-09-03T12:39:54.919803Z"
    }
   },
   "outputs": [
    {
     "name": "stdout",
     "output_type": "stream",
     "text": [
      "checking kaolin...\n",
      "check_sign tensor([[ True, False, False, False, False, False, False, False, False, False,\n",
      "         False, False, False,  True, False, False, False,  True, False, False,\n",
      "         False, False, False,  True, False,  True, False]], device='cuda:0')\n",
      "point_to_mesh_distance tensor([[ 0.2500, 41.0000]], device='cuda:0') tensor([[0, 0]], device='cuda:0') tensor([[5, 5]], device='cuda:0', dtype=torch.int32)\n",
      "WARNING: You are using a MANO model, with only 10 shape coefficients.\n",
      "WARNING: You are using a MANO model, with only 10 shape coefficients.\n",
      "Fix shapedirs bug of MANO\n"
     ]
    },
    {
     "name": "stderr",
     "output_type": "stream",
     "text": [
      "/scratch_net/manifoldnet/azhuavlev/conda_envs/neuman_kaolin_fairnr/lib/python3.9/site-packages/torch/functional.py:504: UserWarning: torch.meshgrid: in an upcoming release, it will be required to pass the indexing argument. (Triggered internally at /opt/conda/conda-bld/pytorch_1670525539683/work/aten/src/ATen/native/TensorShape.cpp:3190.)\n",
      "  return _VF.meshgrid(tensors, **kwargs)  # type: ignore[attr-defined]\n"
     ]
    }
   ],
   "source": [
    "%load_ext autoreload\n",
    "%autoreload 2\n",
    "import os\n",
    "import sys\n",
    "import time\n",
    "import json\n",
    "import glob\n",
    "import torch\n",
    "import math\n",
    "import matplotlib.pyplot as plt\n",
    "import numpy as np\n",
    "from PIL import Image\n",
    "from IPython import display\n",
    "from tqdm.notebook import tqdm\n",
    "\n",
    "# Data structures and functions for rendering\n",
    "from pytorch3d.structures import Volumes\n",
    "from pytorch3d.transforms import so3_exp_map\n",
    "from pytorch3d.renderer import (\n",
    "    FoVPerspectiveCameras,\n",
    "    NDCMultinomialRaysampler,\n",
    "    MonteCarloRaysampler,\n",
    "    EmissionAbsorptionRaymarcher,\n",
    "    ImplicitRenderer,\n",
    "    RayBundle,\n",
    "    ray_bundle_to_ray_points,\n",
    ")\n",
    "import sys\n",
    "\n",
    "sys.path.append('/home/azhuavlev/PycharmProjects/ml-neuman_mano/pytorch3d_nerf')\n",
    "from mano_custom import mano_pytorch3d\n",
    "\n",
    "device = torch.device(\"cuda:0\")\n",
    "import kaolin\n",
    "import warping.kaolin_test as kaolin_test\n",
    "\n",
    "kaolin_test.test_kaolin()\n",
    "hand_model = mano_pytorch3d.create_mano_custom(return_right_hand=False)"
   ]
  },
  {
   "cell_type": "code",
   "execution_count": 2,
   "outputs": [
    {
     "name": "stdout",
     "output_type": "stream",
     "text": [
      "True\n"
     ]
    }
   ],
   "source": [
    "import trimesh\n",
    "\n",
    "faces_zero_pose = torch.from_numpy(hand_model.faces.astype(np.int32))[None, :, :]\n",
    "verts_zero_pose = hand_model.get_flat_hand_vertices_pytorch3d('cpu')\n",
    "\n",
    "mesh = trimesh.Trimesh(vertices=verts_zero_pose[0], faces=faces_zero_pose[0])\n",
    "boundary_vertices = [92, 38, 122, 118, 117, 119, 120, 108, 79, 78, 121, 214, 215, 279, 239, 234][::-1]\n",
    "\n",
    "centroid = mesh.vertices[boundary_vertices].mean(axis=0)\n",
    "vertices_repaired = np.append(verts_zero_pose[0], centroid[None, :], axis=0)\n",
    "\n",
    "new_faces = []\n",
    "for i in range(len(boundary_vertices) - 1):\n",
    "    next_i = i + 1 % len(boundary_vertices)\n",
    "    new_faces.append([len(vertices_repaired) - 1, boundary_vertices[i], boundary_vertices[next_i]])\n",
    "new_faces.append([len(vertices_repaired) - 1, boundary_vertices[len(boundary_vertices) - 1], boundary_vertices[0]])\n",
    "\n",
    "faces_repaired = np.append(faces_zero_pose[0], new_faces, axis=0)\n",
    "\n",
    "mesh_repaired_trimesh = trimesh.Trimesh(vertices=vertices_repaired, faces=faces_repaired)\n",
    "print(mesh_repaired_trimesh.is_watertight)"
   ],
   "metadata": {
    "collapsed": false,
    "ExecuteTime": {
     "start_time": "2023-09-03T12:39:54.927148Z",
     "end_time": "2023-09-03T12:39:55.773173Z"
    }
   }
  },
  {
   "cell_type": "code",
   "execution_count": 3,
   "outputs": [],
   "source": [
    "import livehand.input_encoder as input_encoder"
   ],
   "metadata": {
    "collapsed": false,
    "ExecuteTime": {
     "start_time": "2023-09-03T12:39:55.776293Z",
     "end_time": "2023-09-03T12:39:57.978283Z"
    }
   }
  },
  {
   "cell_type": "code",
   "execution_count": 4,
   "outputs": [],
   "source": [
    "vt, ft, f = input_encoder.read_mano_uv_obj('/itet-stor/azhuavlev/net_scratch/Projects/Data/models/mano/uv_maps/MANO_UV_left.obj')\n",
    "#vt: uv coordinates of the vertices of the MANO mesh                #(891, 2), range: [0, 1]\n",
    "#ft: MANO mesh face indices for vt                                  #(1538, 3), range: [0, 890]\n",
    "#f: MANO mesh face indices for the vertices of the MANO mesh        #(1538, 3), range: [0, 777]\n",
    "mesh_faces = torch.tensor(f)                                    #NOTE: this is same as mano_layer[hand_type].faces\n",
    "mesh_face_uv = torch.tensor(vt[ft], dtype=torch.float32)        #torch.Size([1538, 3, 2])   #Neural Actor encoder.py line 1244"
   ],
   "metadata": {
    "collapsed": false,
    "ExecuteTime": {
     "start_time": "2023-09-03T12:43:44.357605Z",
     "end_time": "2023-09-03T12:43:45.356809Z"
    }
   }
  },
  {
   "cell_type": "code",
   "execution_count": 12,
   "outputs": [
    {
     "name": "stdout",
     "output_type": "stream",
     "text": [
      "uv_finder.faces_uvs_index tensor([[[0.2531, 0.4262],\n",
      "         [0.2569, 0.3909],\n",
      "         [0.2802, 0.4381]],\n",
      "\n",
      "        [[0.2802, 0.4381],\n",
      "         [0.2569, 0.3909],\n",
      "         [0.2835, 0.4006]],\n",
      "\n",
      "        [[0.2721, 0.3198],\n",
      "         [0.2499, 0.3230],\n",
      "         [0.2764, 0.2818]],\n",
      "\n",
      "        ...,\n",
      "\n",
      "        [[0.2423, 0.3529],\n",
      "         [0.2162, 0.3741],\n",
      "         [0.2233, 0.3507]],\n",
      "\n",
      "        [[0.2341, 0.3822],\n",
      "         [0.2292, 0.4137],\n",
      "         [0.2162, 0.3741]],\n",
      "\n",
      "        [[0.2162, 0.3741],\n",
      "         [0.2292, 0.4137],\n",
      "         [0.2129, 0.4050]]]) torch.Size([1538, 3, 2])\n",
      "mesh_face_uv tensor([[[0.2531, 0.5738],\n",
      "         [0.2569, 0.6091],\n",
      "         [0.2802, 0.5619]],\n",
      "\n",
      "        [[0.2802, 0.5619],\n",
      "         [0.2569, 0.6091],\n",
      "         [0.2835, 0.5994]],\n",
      "\n",
      "        [[0.2721, 0.6802],\n",
      "         [0.2499, 0.6770],\n",
      "         [0.2764, 0.7182]],\n",
      "\n",
      "        ...,\n",
      "\n",
      "        [[0.2423, 0.6471],\n",
      "         [0.2162, 0.6259],\n",
      "         [0.2233, 0.6493]],\n",
      "\n",
      "        [[0.2341, 0.6178],\n",
      "         [0.2292, 0.5863],\n",
      "         [0.2162, 0.6259]],\n",
      "\n",
      "        [[0.2162, 0.6259],\n",
      "         [0.2292, 0.5863],\n",
      "         [0.2129, 0.5950]]]) torch.Size([1538, 3, 2])\n"
     ]
    }
   ],
   "source": [
    "import warping.get_vertex_uv as get_vertex_uv\n",
    "uv_finder = get_vertex_uv.VertexUVFinder()\n",
    "print('uv_finder.faces_uvs_index', uv_finder.faces_uvs_index, uv_finder.faces_uvs_index.shape)\n",
    "print('mesh_face_uv', mesh_face_uv, mesh_face_uv.shape)"
   ],
   "metadata": {
    "collapsed": false,
    "ExecuteTime": {
     "start_time": "2023-09-03T12:49:53.752560Z",
     "end_time": "2023-09-03T12:49:53.834958Z"
    }
   }
  },
  {
   "cell_type": "code",
   "execution_count": 15,
   "outputs": [
    {
     "data": {
      "text/plain": "(0.0, 1.0)"
     },
     "execution_count": 15,
     "metadata": {},
     "output_type": "execute_result"
    },
    {
     "data": {
      "text/plain": "<Figure size 1000x1000 with 2 Axes>",
      "image/png": "[encoded data removed]"
     },
     "metadata": {},
     "output_type": "display_data"
    }
   ],
   "source": [
    "import matplotlib.pyplot as plt\n",
    "\n",
    "fig = plt.figure(figsize=(10, 10))\n",
    "ax = fig.add_subplot(121)\n",
    "ax.scatter(\n",
    "    x=uv_finder.faces_uvs_index.reshape(-1, 2)[:, 0].cpu().numpy(),\n",
    "    y=uv_finder.faces_uvs_index.reshape(-1, 2)[:, 1].cpu().numpy(),\n",
    "    s=1)\n",
    "ax.set_title('uv_finder.faces_uvs_index')\n",
    "\n",
    "ax.set_aspect('equal', adjustable='box')\n",
    "# set axes limits 0 to 1\n",
    "ax.set_xlim(0, 1)\n",
    "ax.set_ylim(0, 1)\n",
    "\n",
    "ax = fig.add_subplot(122)\n",
    "ax.scatter(\n",
    "    x=mesh_face_uv.reshape(-1, 2)[:, 0].cpu().numpy(),\n",
    "    y=mesh_face_uv.reshape(-1, 2)[:, 1].cpu().numpy(),\n",
    "    s=1)\n",
    "ax.set_title('mesh_face_uv')\n",
    "\n",
    "# set axes equal\n",
    "ax.set_aspect('equal', adjustable='box')\n",
    "# set axes limits 0 to 1\n",
    "ax.set_xlim(0, 1)\n",
    "ax.set_ylim(0, 1)"
   ],
   "metadata": {
    "collapsed": false,
    "ExecuteTime": {
     "start_time": "2023-09-03T13:21:38.935446Z",
     "end_time": "2023-09-03T13:21:39.383107Z"
    }
   }
  },
  {
   "cell_type": "code",
   "execution_count": 10,
   "outputs": [
    {
     "ename": "RuntimeError",
     "evalue": "No CPU implementation.",
     "output_type": "error",
     "traceback": [
      "\u001B[0;31m---------------------------------------------------------------------------\u001B[0m",
      "\u001B[0;31mRuntimeError\u001B[0m                              Traceback (most recent call last)",
      "Cell \u001B[0;32mIn[10], line 3\u001B[0m\n\u001B[1;32m      1\u001B[0m points_to_query \u001B[38;5;241m=\u001B[39m torch\u001B[38;5;241m.\u001B[39mrand(\u001B[38;5;241m1\u001B[39m, \u001B[38;5;241m5000\u001B[39m, \u001B[38;5;241m3\u001B[39m) \u001B[38;5;241m*\u001B[39m \u001B[38;5;241m0.5\u001B[39m \u001B[38;5;241m-\u001B[39m \u001B[38;5;241m0.25\u001B[39m\n\u001B[0;32m----> 3\u001B[0m pts_uv, pts_d, intermediates \u001B[38;5;241m=\u001B[39m \u001B[43minput_encoder\u001B[49m\u001B[38;5;241;43m.\u001B[39;49m\u001B[43mget_uvd\u001B[49m\u001B[43m(\u001B[49m\u001B[43mpoints_to_query\u001B[49m\u001B[43m,\u001B[49m\u001B[43m \u001B[49m\u001B[43mverts_zero_pose\u001B[49m\u001B[43m[\u001B[49m\u001B[38;5;241;43m0\u001B[39;49m\u001B[43m]\u001B[49m\u001B[43m,\u001B[49m\u001B[43m \u001B[49m\u001B[43mfaces_zero_pose\u001B[49m\u001B[43m[\u001B[49m\u001B[38;5;241;43m0\u001B[39;49m\u001B[43m]\u001B[49m\u001B[43m,\u001B[49m\u001B[43m \u001B[49m\u001B[43mmesh_face_uv\u001B[49m\u001B[43m)\u001B[49m\n\u001B[1;32m      4\u001B[0m \u001B[38;5;28mprint\u001B[39m(pts_uv)\n\u001B[1;32m      5\u001B[0m \u001B[38;5;28mprint\u001B[39m(pts_d)\n",
      "File \u001B[0;32m~/PycharmProjects/ml-neuman_mano/pytorch3d_nerf/livehand/input_encoder.py:50\u001B[0m, in \u001B[0;36mget_uvd\u001B[0;34m(pts, mesh_vertices, mesh_faces, mesh_face_uv)\u001B[0m\n\u001B[1;32m     48\u001B[0m l_idx \u001B[38;5;241m=\u001B[39m torch\u001B[38;5;241m.\u001B[39mtensor([\u001B[38;5;241m0\u001B[39m,])\u001B[38;5;241m.\u001B[39mtype_as(mesh_faces)\n\u001B[1;32m     49\u001B[0m \u001B[38;5;66;03m# min_dis, min_face_idx, w0, w1, w2 = point_face_dist_forward(pts, l_idx, triangles, l_idx, pts.size(0))\u001B[39;00m\n\u001B[0;32m---> 50\u001B[0m min_dis, min_face_idx, w0, w1, w2 \u001B[38;5;241m=\u001B[39m \u001B[43mpoint_face_dist\u001B[49m\u001B[43m(\u001B[49m\u001B[43mpts\u001B[49m\u001B[43m,\u001B[49m\u001B[43m \u001B[49m\u001B[43ml_idx\u001B[49m\u001B[43m,\u001B[49m\u001B[43m \u001B[49m\u001B[43mtriangles\u001B[49m\u001B[43m,\u001B[49m\u001B[43m \u001B[49m\u001B[43ml_idx\u001B[49m\u001B[43m,\u001B[49m\u001B[43m \u001B[49m\u001B[43mpts\u001B[49m\u001B[38;5;241;43m.\u001B[39;49m\u001B[43msize\u001B[49m\u001B[43m(\u001B[49m\u001B[38;5;241;43m0\u001B[39;49m\u001B[43m)\u001B[49m\u001B[43m)\u001B[49m\n\u001B[1;32m     51\u001B[0m bary_coords \u001B[38;5;241m=\u001B[39m torch\u001B[38;5;241m.\u001B[39mstack([w0, w1, w2], \u001B[38;5;241m1\u001B[39m)   \u001B[38;5;66;03m# B x 3\u001B[39;00m\n\u001B[1;32m     52\u001B[0m sampled_uvs \u001B[38;5;241m=\u001B[39m (mesh_face_uv[min_face_idx] \u001B[38;5;241m*\u001B[39m bary_coords\u001B[38;5;241m.\u001B[39munsqueeze(\u001B[38;5;241m-\u001B[39m\u001B[38;5;241m1\u001B[39m))\u001B[38;5;241m.\u001B[39msum(\u001B[38;5;241m1\u001B[39m)\n",
      "File \u001B[0;32m~/PycharmProjects/ml-neuman_mano/pytorch3d_nerf/livehand/input_encoder.py:80\u001B[0m, in \u001B[0;36mPointFaceDistFunction.forward\u001B[0;34m(ctx, pts, l_idx, triangles, l_idx2, num_samples)\u001B[0m\n\u001B[1;32m     73\u001B[0m \u001B[38;5;129m@staticmethod\u001B[39m\n\u001B[1;32m     74\u001B[0m \u001B[38;5;28;01mdef\u001B[39;00m \u001B[38;5;21mforward\u001B[39m(ctx, pts, l_idx, triangles, l_idx2, num_samples):\n\u001B[1;32m     75\u001B[0m \u001B[38;5;250m    \u001B[39m\u001B[38;5;124;03m'''\u001B[39;00m\n\u001B[1;32m     76\u001B[0m \u001B[38;5;124;03m    pts: torch.Size([num_samples, 3])\u001B[39;00m\n\u001B[1;32m     77\u001B[0m \u001B[38;5;124;03m    triangles: torch.Size([num_faces, 3, 3])\u001B[39;00m\n\u001B[1;32m     78\u001B[0m \u001B[38;5;124;03m    '''\u001B[39;00m\n\u001B[0;32m---> 80\u001B[0m     min_dis, min_face_idx, w0, w1, w2 \u001B[38;5;241m=\u001B[39m \u001B[43mpoint_face_dist_forward\u001B[49m\u001B[43m(\u001B[49m\u001B[43mpts\u001B[49m\u001B[43m,\u001B[49m\u001B[43m \u001B[49m\u001B[43ml_idx\u001B[49m\u001B[43m,\u001B[49m\u001B[43m \u001B[49m\u001B[43mtriangles\u001B[49m\u001B[43m,\u001B[49m\u001B[43m \u001B[49m\u001B[43ml_idx2\u001B[49m\u001B[43m,\u001B[49m\u001B[43m \u001B[49m\u001B[43mnum_samples\u001B[49m\u001B[43m)\u001B[49m\n\u001B[1;32m     82\u001B[0m     ctx\u001B[38;5;241m.\u001B[39msave_for_backward(pts, triangles, min_face_idx)\n\u001B[1;32m     84\u001B[0m     \u001B[38;5;28;01mreturn\u001B[39;00m min_dis, min_face_idx, w0, w1, w2\n",
      "\u001B[0;31mRuntimeError\u001B[0m: No CPU implementation."
     ]
    }
   ],
   "source": [
    "points_to_query = torch.rand(1, 5000, 3) * 0.5 - 0.25\n",
    "\n",
    "pts_uv, pts_d, intermediates = input_encoder.get_uvd(points_to_query, verts_zero_pose[0], faces_zero_pose[0], mesh_face_uv)\n",
    "print(pts_uv)\n",
    "print(pts_d)\n",
    "print('intermediates', intermediates)"
   ],
   "metadata": {
    "collapsed": false,
    "ExecuteTime": {
     "start_time": "2023-09-03T12:39:57.982103Z",
     "end_time": "2023-09-03T12:39:57.987427Z"
    }
   }
  },
  {
   "cell_type": "code",
   "execution_count": 7,
   "outputs": [
    {
     "data": {
      "text/plain": "torch.Size([1, 1538, 3])"
     },
     "execution_count": 7,
     "metadata": {},
     "output_type": "execute_result"
    }
   ],
   "source": [],
   "metadata": {
    "collapsed": false,
    "ExecuteTime": {
     "start_time": "2023-09-03T12:44:35.188752Z",
     "end_time": "2023-09-03T12:44:35.297639Z"
    }
   }
  },
  {
   "cell_type": "code",
   "execution_count": null,
   "outputs": [],
   "source": [],
   "metadata": {
    "collapsed": false
   }
  }
 ],
 "metadata": {
  "kernelspec": {
   "display_name": "Python 3",
   "language": "python",
   "name": "python3"
  },
  "language_info": {
   "codemirror_mode": {
    "name": "ipython",
    "version": 2
   },
   "file_extension": ".py",
   "mimetype": "text/x-python",
   "name": "python",
   "nbconvert_exporter": "python",
   "pygments_lexer": "ipython2",
   "version": "2.7.6"
  }
 },
 "nbformat": 4,
 "nbformat_minor": 0
}
