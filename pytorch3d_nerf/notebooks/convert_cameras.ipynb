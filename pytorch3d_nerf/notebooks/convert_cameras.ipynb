{
 "cells": [
  {
   "cell_type": "code",
   "execution_count": 9,
   "metadata": {
    "collapsed": true,
    "ExecuteTime": {
     "start_time": "2023-07-22T16:09:08.768533Z",
     "end_time": "2023-07-22T16:09:08.823298Z"
    }
   },
   "outputs": [
    {
     "name": "stdout",
     "output_type": "stream",
     "text": [
      "The autoreload extension is already loaded. To reload it, use:\n",
      "  %reload_ext autoreload\n"
     ]
    }
   ],
   "source": [
    "import sys\n",
    "\n",
    "sys.path.append(\"/home/azhuavlev/PycharmProjects/ml-neuman_mano\")\n",
    "%load_ext autoreload\n",
    "%autoreload 2\n",
    "import glob\n",
    "import json\n",
    "import math\n",
    "import matplotlib.pyplot as plt\n",
    "import numpy as np\n",
    "import os\n",
    "import pytorch3d\n",
    "import sys\n",
    "import time\n",
    "import torch\n",
    "from IPython import display\n",
    "from PIL import Image\n",
    "from pytorch3d.renderer import (\n",
    "    FoVPerspectiveCameras,\n",
    "    NDCMultinomialRaysampler,\n",
    "    MonteCarloRaysampler,\n",
    "    EmissionAbsorptionRaymarcher,\n",
    "    ImplicitRenderer,\n",
    "    RayBundle,\n",
    "    ray_bundle_to_ray_points,\n",
    ")\n",
    "# Data structures and functions for rendering\n",
    "from pytorch3d.structures import Volumes\n",
    "from pytorch3d.transforms import so3_exp_map\n",
    "from tqdm import tqdm\n",
    "\n",
    "from generate_cow_renders import generate_cow_renders\n",
    "from plot_image_grid import image_grid\n",
    "\n",
    "from helpers import *\n",
    "from nerf import *\n",
    "\n",
    "from data_io import neuman_helper\n",
    "\n",
    "device = 'cuda' if torch.cuda.is_available() else 'cpu'\n",
    "# Load the data\n",
    "# Datasets\n",
    "from torch.utils.data import DataLoader\n",
    "import dataset_from_files\n",
    "import glob\n",
    "\n",
    "import smplx\n",
    "import torch\n",
    "from pytorch3d.structures import Meshes\n",
    "from pytorch3d.renderer import (\n",
    "PointLights,\n",
    "DirectionalLights,\n",
    "PerspectiveCameras,\n",
    "Materials,\n",
    "SoftPhongShader,\n",
    "RasterizationSettings,\n",
    "MeshRenderer,\n",
    "MeshRendererWithFragments,\n",
    "MeshRasterizer,\n",
    "TexturesVertex)\n",
    "from pytorch3d.transforms.so3 import so3_exponential_map, so3_log_map\n",
    "import matplotlib.pyplot as plt\n",
    "import mano_pytorch3d"
   ]
  },
  {
   "cell_type": "code",
   "execution_count": 5,
   "outputs": [
    {
     "name": "stdout",
     "output_type": "stream",
     "text": [
      "[9, 47, 24, 20, 0, 3, 17, 13, 28, 49, 29, 14, 27, 7, 15, 54, 31, 32, 35, 30, 56, 25, 6, 41]\n",
      "WARNING: You are using a MANO model, with only 10 shape coefficients.\n",
      "Fix shapedirs bug of MANO\n",
      "WARNING: You are using a MANO model, with only 10 shape coefficients.\n",
      "Fix shapedirs bug of MANO\n",
      "WARNING: You are using a MANO model, with only 10 shape coefficients.\n",
      "Fix shapedirs bug of MANO\n"
     ]
    },
    {
     "data": {
      "text/plain": "[{'R_pytorch3d': tensor([[[ 0.6633,  0.2828,  0.6929],\n           [-0.0644,  0.9440, -0.3237],\n           [-0.7456,  0.1700,  0.6444]]]),\n  't_pytorch3d': tensor([[ 0.7742, -0.1910,  0.3783]]),\n  'intrinsic_mat': tensor([[[1.2653e+03, 0.0000e+00, 1.9899e+02],\n           [0.0000e+00, 1.2658e+03, 2.2659e+02],\n           [0.0000e+00, 0.0000e+00, 1.0000e+00]]]),\n  'image_size': tensor([[512., 334.]]),\n  'focal': tensor([[1265.3059, 1265.8390]]),\n  'princpt': tensor([[198.9914, 226.5860]]),\n  'campos': tensor([[ 0.7216, -0.3526,  0.3659]]),\n  'camrot': tensor([[[ 0.6633, -0.0644,  0.7456],\n           [ 0.2828,  0.9440, -0.1700],\n           [-0.6929,  0.3237,  0.6444]]])},\n tensor([[[[0., 0., 0.],\n           [0., 0., 0.],\n           [0., 0., 0.],\n           ...,\n           [0., 0., 0.],\n           [0., 0., 0.],\n           [0., 0., 0.]],\n \n          [[0., 0., 0.],\n           [0., 0., 0.],\n           [0., 0., 0.],\n           ...,\n           [0., 0., 0.],\n           [0., 0., 0.],\n           [0., 0., 0.]],\n \n          [[0., 0., 0.],\n           [0., 0., 0.],\n           [0., 0., 0.],\n           ...,\n           [0., 0., 0.],\n           [0., 0., 0.],\n           [0., 0., 0.]],\n \n          ...,\n \n          [[0., 0., 0.],\n           [0., 0., 0.],\n           [0., 0., 0.],\n           ...,\n           [0., 0., 0.],\n           [0., 0., 0.],\n           [0., 0., 0.]],\n \n          [[0., 0., 0.],\n           [0., 0., 0.],\n           [0., 0., 0.],\n           ...,\n           [0., 0., 0.],\n           [0., 0., 0.],\n           [0., 0., 0.]],\n \n          [[0., 0., 0.],\n           [0., 0., 0.],\n           [0., 0., 0.],\n           ...,\n           [0., 0., 0.],\n           [0., 0., 0.],\n           [0., 0., 0.]]]]),\n tensor([[[0., 0., 0.,  ..., 0., 0., 0.],\n          [0., 0., 0.,  ..., 0., 0., 0.],\n          [0., 0., 0.,  ..., 0., 0., 0.],\n          ...,\n          [0., 0., 0.,  ..., 0., 0., 0.],\n          [0., 0., 0.,  ..., 0., 0., 0.],\n          [0., 0., 0.,  ..., 0., 0., 0.]]]),\n {'root_pose': tensor([[ 1.4361,  0.8373, -1.0623]]),\n  'hand_pose': tensor([[-0.0119,  0.2352,  0.0221, -0.1533,  0.0106,  0.3381,  0.0910,  0.1215,\n            0.0089, -0.0668,  0.0507,  0.0104,  0.0612, -0.0611,  0.3390, -0.0811,\n            0.0408,  0.0807,  0.0743, -0.2267,  0.2943,  0.0637,  0.0775,  0.1389,\n           -0.0257,  0.1053, -0.1179, -0.0018,  0.0044,  0.1083,  0.0392, -0.0378,\n            0.3632, -0.0715,  0.1214,  0.0436, -0.1128, -0.0322,  0.1416, -0.0897,\n           -0.1090, -0.1214,  0.0368,  0.0411,  0.2064]]),\n  'shape': tensor([[-1.7993, -0.0888, -0.7397, -0.0622,  0.0681, -0.0301,  0.0988,  0.1674,\n           -0.1329,  0.0169]]),\n  'trans': tensor([[0.1240, 0.0242, 1.1022]]),\n  'verts': tensor([[[-0.0182, -0.0145,  1.0512],\n           [-0.0112, -0.0170,  1.0610],\n           [-0.0084, -0.0102,  1.0514],\n           ...,\n           [-0.0259, -0.0623,  1.0452],\n           [-0.0303, -0.0614,  1.0360],\n           [-0.0187, -0.0524,  1.0609]]]),\n  'Ts': tensor([[[[ 0.3717,  0.8657, -0.2422,  0.0546],\n            [-0.0324, -0.2544, -0.9226,  0.0312],\n            [-0.9231,  0.3300, -0.0708,  1.0122],\n            [ 0.0000,  0.0000,  0.0000,  1.0000]],\n  \n           [[ 0.4098,  0.7770, -0.3719,  0.0612],\n            [ 0.0170, -0.4232, -0.8258,  0.0299],\n            [-0.9039,  0.2974, -0.1937,  1.0177],\n            [ 0.0000,  0.0000,  0.0000,  1.0000]],\n  \n           [[ 0.4335,  0.7227, -0.4515,  0.0652],\n            [ 0.0481, -0.5271, -0.7665,  0.0293],\n            [-0.8921,  0.2776, -0.2701,  1.0210],\n            [ 0.0000,  0.0000,  0.0000,  1.0000]],\n  \n           ...,\n  \n           [[ 0.3450,  0.9256, -0.1541,  0.0501],\n            [-0.0665, -0.1401, -0.9876,  0.0321],\n            [-0.9359,  0.3508,  0.0131,  1.0085],\n            [ 0.0000,  0.0000,  0.0000,  1.0000]],\n  \n           [[ 0.3254,  0.9282, -0.1453,  0.0500],\n            [-0.0745, -0.1326, -0.9858,  0.0319],\n            [-0.9361,  0.3298,  0.0235,  1.0090],\n            [ 0.0000,  0.0000,  0.0000,  1.0000]],\n  \n           [[ 0.3459,  0.9254, -0.1548,  0.0501],\n            [-0.0657, -0.1407, -0.9879,  0.0321],\n            [-0.9360,  0.3519,  0.0121,  1.0085],\n            [ 0.0000,  0.0000,  0.0000,  1.0000]]]])}]"
     },
     "execution_count": 5,
     "metadata": {},
     "output_type": "execute_result"
    }
   ],
   "source": [
    "data_path = '/home/azhuavlev/Desktop/Data/InterHand_Neuman/03'\n",
    "all_ids = list(range(len(glob.glob(os.path.join(data_path, 'cameras', '*.json')))))\n",
    "\n",
    "# use 80% of the data for training, randomize the order\n",
    "np.random.shuffle(all_ids)\n",
    "train_ids = all_ids[:int(0.6 * len(all_ids))]\n",
    "test_ids = all_ids[int(0.6 * len(all_ids)):]\n",
    "print(test_ids)\n",
    "\n",
    "train_dataset = dataset_from_files.NeumanDataset(data_path, train_ids)\n",
    "test_dataset = dataset_from_files.NeumanDataset(data_path, test_ids)\n",
    "full_dataset = dataset_from_files.NeumanDataset(data_path, all_ids)\n",
    "\n",
    "# We sample 6 random cameras in a minibatch.\n",
    "batch_size = 1\n",
    "\n",
    "train_loader = DataLoader(train_dataset, batch_size=batch_size, shuffle=True, num_workers=5)\n",
    "test_loader = DataLoader(test_dataset, batch_size=batch_size, shuffle=False)\n",
    "full_loader = DataLoader(full_dataset, batch_size=batch_size, shuffle=False)\n",
    "\n",
    "# print example batch\n",
    "example = next(iter(train_loader))\n",
    "example"
   ],
   "metadata": {
    "collapsed": false,
    "ExecuteTime": {
     "start_time": "2023-07-22T16:00:32.882950Z",
     "end_time": "2023-07-22T16:00:35.747620Z"
    }
   }
  },
  {
   "cell_type": "code",
   "execution_count": 25,
   "outputs": [],
   "source": [
    "def render_mesh(mesh, face, cameras):\n",
    "    batch_size, vertex_num = mesh.shape[:2]\n",
    "\n",
    "    textures = TexturesVertex(verts_features=torch.ones((batch_size,vertex_num,3)).float().cuda())\n",
    "    mesh = Meshes(mesh, face, textures)\n",
    "\n",
    "    img_size = (512, 334)\n",
    "    raster_settings = RasterizationSettings(image_size=img_size, blur_radius=0.0, faces_per_pixel=1, perspective_correct=True)\n",
    "    rasterizer = MeshRasterizer(cameras=cameras, raster_settings=raster_settings).cuda()\n",
    "    lights = PointLights(device='cuda')\n",
    "    shader = SoftPhongShader(device='cuda', cameras=cameras, lights=lights)\n",
    "    materials = Materials(\n",
    "\tdevice='cuda',\n",
    "        specular_color=((0.0, 1.0, 0.0),),\n",
    "\tshininess=0\n",
    "    )\n",
    "\n",
    "    # render\n",
    "    with torch.no_grad():\n",
    "        renderer = MeshRendererWithFragments(rasterizer=rasterizer, shader=shader)\n",
    "        images, fragments = renderer(mesh, materials=materials)\n",
    "        images = images[:,:,:,:3] * 255\n",
    "        depthmaps = fragments.zbuf\n",
    "\n",
    "    return images, depthmaps\n",
    "\n",
    "hand_model = mano_pytorch3d.MANOCustom(\n",
    "    model_path='/home/azhuavlev/Desktop/Data/models/mano/MANO_LEFT.pkl',\n",
    "    is_rhand=False,\n",
    "    use_pca=False,\n",
    ")"
   ],
   "metadata": {
    "collapsed": false,
    "ExecuteTime": {
     "start_time": "2023-07-22T16:17:30.940566Z",
     "end_time": "2023-07-22T16:17:32.178303Z"
    }
   }
  },
  {
   "cell_type": "code",
   "execution_count": 140,
   "outputs": [],
   "source": [
    "import mano_pytorch3d\n",
    "\n",
    "# verts = example[3]['verts'].cuda()\n",
    "camera_params, images, silhouettes, manos = example\n",
    "\n",
    "verts_orig = hand_model.forward(\n",
    "    betas=manos['shape'],\n",
    "    global_orient=manos['root_pose'],\n",
    "    hand_pose=manos['hand_pose'],\n",
    "    transl=manos['trans'],\n",
    ").vertices.cuda()\n",
    "\n",
    "faces = torch.from_numpy(hand_model.faces.astype(np.int32)).cuda()[None,:,:]\n",
    "\n",
    "# R_mat = camera_params['R_pytorch3d']\n",
    "# T_mat = camera_params['t_pytorch3d']\n",
    "\n",
    "campos = camera_params['campos']\n",
    "camrot = camera_params['camrot']\n",
    "\n",
    "# x_ind = 0\n",
    "# y_ind = 0\n",
    "# z_ind = 0\n",
    "# x_sign = 1\n",
    "# y_sign = 1\n",
    "# z_sign = 1\n",
    "# verts_projected = np.dot(R_mat[0], verts[0].transpose(1,0)).transpose(1,0) + t_mat.reshape(1,3).numpy()\n",
    "\n",
    "save_dir = '/itet-stor/azhuavlev/net_scratch/Projects/Results/neuman_custom/camera_brute_force/'\n",
    "curr_iter = -1\n",
    "for x_ind in [0, 1, 2]:\n",
    "    break\n",
    "    for y_ind in [0, 1, 2]:\n",
    "        for z_ind in [0, 1, 2]:\n",
    "            for x_sign in [-1, 1]:\n",
    "                for y_sign in [-1, 1]:\n",
    "                    for z_sign in [-1, 1]:\n",
    "                        curr_iter += 1\n",
    "\n",
    "                        R_mat = camrot.clone()\n",
    "                        t_mat = -np.dot(R_mat, campos.reshape(3, 1)).reshape(3)  # -Rt -> t\n",
    "                        t_mat = torch.from_numpy(t_mat).float().unsqueeze(0)\n",
    "\n",
    "                        R_mat = R_mat.clone().squeeze(0).cuda().transpose(0,1)\n",
    "                        R_mat = torch.stack((\n",
    "                            x_sign * R_mat[x_ind],\n",
    "                            y_sign * R_mat[y_ind],\n",
    "                            z_sign * R_mat[z_ind]\n",
    "                        ), 0)\n",
    "                        R_mat = R_mat.unsqueeze(0)\n",
    "\n",
    "                        t_mat = t_mat.squeeze(0).cuda()\n",
    "                        t_mat = torch.stack((\n",
    "                            x_sign * t_mat[x_ind],\n",
    "                            y_sign * t_mat[y_ind],\n",
    "                            z_sign * t_mat[z_ind]\n",
    "                        ), 0)\n",
    "                        t_mat = t_mat.unsqueeze(0)\n",
    "\n",
    "                        verts = verts_orig.clone().squeeze(0)\n",
    "                        verts = torch.stack((\n",
    "                            x_sign * verts[:, x_ind],\n",
    "                            y_sign * verts[:, y_ind],\n",
    "                            z_sign * verts[:, z_ind]\n",
    "                        ),1)\n",
    "                        verts = verts.unsqueeze(0)\n",
    "\n",
    "                        camera = PerspectiveCameras(\n",
    "                            R=R_mat,\n",
    "                            T=T_mat,\n",
    "                            focal_length=camera_params['focal'],\n",
    "                            principal_point=camera_params['princpt'],\n",
    "                            in_ndc=False,\n",
    "                            image_size=camera_params['image_size'],\n",
    "                            device='cuda'\n",
    "                        )\n",
    "                        # %matplotlib inline\n",
    "\n",
    "                        # from pytorch3d.utils.camera_conversions import cameras_from_opencv_projection\n",
    "                        # camera = cameras_from_opencv_projection(\n",
    "                        #     R_mat,\n",
    "                        #     t_mat,\n",
    "                        #     camera_params['intrinsic_mat'],\n",
    "                        #     camera_params['image_size'],\n",
    "                        # )\n",
    "                        camera = camera.to(device)\n",
    "                        # verts = torch.stack((verts[:,:,0], verts[:,:,1], verts[:,:,2]),2)\n",
    "\n",
    "                        img, depth = render_mesh(verts, faces, camera)\n",
    "\n",
    "                        fig, ax = plt.subplots(1, 2, figsize=(10, 5))\n",
    "\n",
    "                        ax[0].imshow(img[0].cpu().numpy().astype(np.uint8))\n",
    "                        ax[1].imshow(images[0].cpu().numpy())\n",
    "\n",
    "                        fig.savefig(save_dir + f'{x_ind}{y_ind}{z_ind}{x_sign}{y_sign}{z_sign}.png')\n",
    "                        plt.close(fig)\n",
    "                        print(curr_iter)"
   ],
   "metadata": {
    "collapsed": false,
    "ExecuteTime": {
     "start_time": "2023-07-22T19:22:47.096370Z",
     "end_time": "2023-07-22T19:22:47.154438Z"
    }
   }
  },
  {
   "cell_type": "code",
   "execution_count": 146,
   "outputs": [
    {
     "name": "stdout",
     "output_type": "stream",
     "text": [
      "torch.Size([1, 3])\n",
      "tensor([[ 721591.0000, -352593.9375,  365920.2812]])\n"
     ]
    },
    {
     "data": {
      "text/plain": "<IPython.core.display.Javascript object>",
      "application/javascript": "/* Put everything inside the global mpl namespace */\n/* global mpl */\nwindow.mpl = {};\n\nmpl.get_websocket_type = function () {\n    if (typeof WebSocket !== 'undefined') {\n        return WebSocket;\n    } else if (typeof MozWebSocket !== 'undefined') {\n        return MozWebSocket;\n    } else {\n        alert(\n            'Your browser does not have WebSocket support. ' +\n                'Please try Chrome, Safari or Firefox ≥ 6. ' +\n                'Firefox 4 and 5 are also supported but you ' +\n                'have to enable WebSockets in about:config.'\n        );\n    }\n};\n\nmpl.figure = function (figure_id, websocket, ondownload, parent_element) {\n    this.id = figure_id;\n\n    this.ws = websocket;\n\n    this.supports_binary = this.ws.binaryType !== undefined;\n\n    if (!this.supports_binary) {\n        var warnings = document.getElementById('mpl-warnings');\n        if (warnings) {\n            warnings.style.display = 'block';\n            warnings.textContent =\n                'This browser does not support binary websocket messages. ' +\n                'Performance may be slow.';\n        }\n    }\n\n    this.imageObj = new Image();\n\n    this.context = undefined;\n    this.message = undefined;\n    this.canvas = undefined;\n    this.rubberband_canvas = undefined;\n    this.rubberband_context = undefined;\n    this.format_dropdown = undefined;\n\n    this.image_mode = 'full';\n\n    this.root = document.createElement('div');\n    this.root.setAttribute('style', 'display: inline-block');\n    this._root_extra_style(this.root);\n\n    parent_element.appendChild(this.root);\n\n    this._init_header(this);\n    this._init_canvas(this);\n    this._init_toolbar(this);\n\n    var fig = this;\n\n    this.waiting = false;\n\n    this.ws.onopen = function () {\n        fig.send_message('supports_binary', { value: fig.supports_binary });\n        fig.send_message('send_image_mode', {});\n        if (fig.ratio !== 1) {\n            fig.send_message('set_device_pixel_ratio', {\n                device_pixel_ratio: fig.ratio,\n            });\n        }\n        fig.send_message('refresh', {});\n    };\n\n    this.imageObj.onload = function () {\n        if (fig.image_mode === 'full') {\n            // Full images could contain transparency (where diff images\n            // almost always do), so we need to clear the canvas so that\n            // there is no ghosting.\n            fig.context.clearRect(0, 0, fig.canvas.width, fig.canvas.height);\n        }\n        fig.context.drawImage(fig.imageObj, 0, 0);\n    };\n\n    this.imageObj.onunload = function () {\n        fig.ws.close();\n    };\n\n    this.ws.onmessage = this._make_on_message_function(this);\n\n    this.ondownload = ondownload;\n};\n\nmpl.figure.prototype._init_header = function () {\n    var titlebar = document.createElement('div');\n    titlebar.classList =\n        'ui-dialog-titlebar ui-widget-header ui-corner-all ui-helper-clearfix';\n    var titletext = document.createElement('div');\n    titletext.classList = 'ui-dialog-title';\n    titletext.setAttribute(\n        'style',\n        'width: 100%; text-align: center; padding: 3px;'\n    );\n    titlebar.appendChild(titletext);\n    this.root.appendChild(titlebar);\n    this.header = titletext;\n};\n\nmpl.figure.prototype._canvas_extra_style = function (_canvas_div) {};\n\nmpl.figure.prototype._root_extra_style = function (_canvas_div) {};\n\nmpl.figure.prototype._init_canvas = function () {\n    var fig = this;\n\n    var canvas_div = (this.canvas_div = document.createElement('div'));\n    canvas_div.setAttribute('tabindex', '0');\n    canvas_div.setAttribute(\n        'style',\n        'border: 1px solid #ddd;' +\n            'box-sizing: content-box;' +\n            'clear: both;' +\n            'min-height: 1px;' +\n            'min-width: 1px;' +\n            'outline: 0;' +\n            'overflow: hidden;' +\n            'position: relative;' +\n            'resize: both;' +\n            'z-index: 2;'\n    );\n\n    function on_keyboard_event_closure(name) {\n        return function (event) {\n            return fig.key_event(event, name);\n        };\n    }\n\n    canvas_div.addEventListener(\n        'keydown',\n        on_keyboard_event_closure('key_press')\n    );\n    canvas_div.addEventListener(\n        'keyup',\n        on_keyboard_event_closure('key_release')\n    );\n\n    this._canvas_extra_style(canvas_div);\n    this.root.appendChild(canvas_div);\n\n    var canvas = (this.canvas = document.createElement('canvas'));\n    canvas.classList.add('mpl-canvas');\n    canvas.setAttribute(\n        'style',\n        'box-sizing: content-box;' +\n            'pointer-events: none;' +\n            'position: relative;' +\n            'z-index: 0;'\n    );\n\n    this.context = canvas.getContext('2d');\n\n    var backingStore =\n        this.context.backingStorePixelRatio ||\n        this.context.webkitBackingStorePixelRatio ||\n        this.context.mozBackingStorePixelRatio ||\n        this.context.msBackingStorePixelRatio ||\n        this.context.oBackingStorePixelRatio ||\n        this.context.backingStorePixelRatio ||\n        1;\n\n    this.ratio = (window.devicePixelRatio || 1) / backingStore;\n\n    var rubberband_canvas = (this.rubberband_canvas = document.createElement(\n        'canvas'\n    ));\n    rubberband_canvas.setAttribute(\n        'style',\n        'box-sizing: content-box;' +\n            'left: 0;' +\n            'pointer-events: none;' +\n            'position: absolute;' +\n            'top: 0;' +\n            'z-index: 1;'\n    );\n\n    // Apply a ponyfill if ResizeObserver is not implemented by browser.\n    if (this.ResizeObserver === undefined) {\n        if (window.ResizeObserver !== undefined) {\n            this.ResizeObserver = window.ResizeObserver;\n        } else {\n            var obs = _JSXTOOLS_RESIZE_OBSERVER({});\n            this.ResizeObserver = obs.ResizeObserver;\n        }\n    }\n\n    this.resizeObserverInstance = new this.ResizeObserver(function (entries) {\n        var nentries = entries.length;\n        for (var i = 0; i < nentries; i++) {\n            var entry = entries[i];\n            var width, height;\n            if (entry.contentBoxSize) {\n                if (entry.contentBoxSize instanceof Array) {\n                    // Chrome 84 implements new version of spec.\n                    width = entry.contentBoxSize[0].inlineSize;\n                    height = entry.contentBoxSize[0].blockSize;\n                } else {\n                    // Firefox implements old version of spec.\n                    width = entry.contentBoxSize.inlineSize;\n                    height = entry.contentBoxSize.blockSize;\n                }\n            } else {\n                // Chrome <84 implements even older version of spec.\n                width = entry.contentRect.width;\n                height = entry.contentRect.height;\n            }\n\n            // Keep the size of the canvas and rubber band canvas in sync with\n            // the canvas container.\n            if (entry.devicePixelContentBoxSize) {\n                // Chrome 84 implements new version of spec.\n                canvas.setAttribute(\n                    'width',\n                    entry.devicePixelContentBoxSize[0].inlineSize\n                );\n                canvas.setAttribute(\n                    'height',\n                    entry.devicePixelContentBoxSize[0].blockSize\n                );\n            } else {\n                canvas.setAttribute('width', width * fig.ratio);\n                canvas.setAttribute('height', height * fig.ratio);\n            }\n            /* This rescales the canvas back to display pixels, so that it\n             * appears correct on HiDPI screens. */\n            canvas.style.width = width + 'px';\n            canvas.style.height = height + 'px';\n\n            rubberband_canvas.setAttribute('width', width);\n            rubberband_canvas.setAttribute('height', height);\n\n            // And update the size in Python. We ignore the initial 0/0 size\n            // that occurs as the element is placed into the DOM, which should\n            // otherwise not happen due to the minimum size styling.\n            if (fig.ws.readyState == 1 && width != 0 && height != 0) {\n                fig.request_resize(width, height);\n            }\n        }\n    });\n    this.resizeObserverInstance.observe(canvas_div);\n\n    function on_mouse_event_closure(name) {\n        /* User Agent sniffing is bad, but WebKit is busted:\n         * https://bugs.webkit.org/show_bug.cgi?id=144526\n         * https://bugs.webkit.org/show_bug.cgi?id=181818\n         * The worst that happens here is that they get an extra browser\n         * selection when dragging, if this check fails to catch them.\n         */\n        var UA = navigator.userAgent;\n        var isWebKit = /AppleWebKit/.test(UA) && !/Chrome/.test(UA);\n        if(isWebKit) {\n            return function (event) {\n                /* This prevents the web browser from automatically changing to\n                 * the text insertion cursor when the button is pressed. We\n                 * want to control all of the cursor setting manually through\n                 * the 'cursor' event from matplotlib */\n                event.preventDefault()\n                return fig.mouse_event(event, name);\n            };\n        } else {\n            return function (event) {\n                return fig.mouse_event(event, name);\n            };\n        }\n    }\n\n    canvas_div.addEventListener(\n        'mousedown',\n        on_mouse_event_closure('button_press')\n    );\n    canvas_div.addEventListener(\n        'mouseup',\n        on_mouse_event_closure('button_release')\n    );\n    canvas_div.addEventListener(\n        'dblclick',\n        on_mouse_event_closure('dblclick')\n    );\n    // Throttle sequential mouse events to 1 every 20ms.\n    canvas_div.addEventListener(\n        'mousemove',\n        on_mouse_event_closure('motion_notify')\n    );\n\n    canvas_div.addEventListener(\n        'mouseenter',\n        on_mouse_event_closure('figure_enter')\n    );\n    canvas_div.addEventListener(\n        'mouseleave',\n        on_mouse_event_closure('figure_leave')\n    );\n\n    canvas_div.addEventListener('wheel', function (event) {\n        if (event.deltaY < 0) {\n            event.step = 1;\n        } else {\n            event.step = -1;\n        }\n        on_mouse_event_closure('scroll')(event);\n    });\n\n    canvas_div.appendChild(canvas);\n    canvas_div.appendChild(rubberband_canvas);\n\n    this.rubberband_context = rubberband_canvas.getContext('2d');\n    this.rubberband_context.strokeStyle = '#000000';\n\n    this._resize_canvas = function (width, height, forward) {\n        if (forward) {\n            canvas_div.style.width = width + 'px';\n            canvas_div.style.height = height + 'px';\n        }\n    };\n\n    // Disable right mouse context menu.\n    canvas_div.addEventListener('contextmenu', function (_e) {\n        event.preventDefault();\n        return false;\n    });\n\n    function set_focus() {\n        canvas.focus();\n        canvas_div.focus();\n    }\n\n    window.setTimeout(set_focus, 100);\n};\n\nmpl.figure.prototype._init_toolbar = function () {\n    var fig = this;\n\n    var toolbar = document.createElement('div');\n    toolbar.classList = 'mpl-toolbar';\n    this.root.appendChild(toolbar);\n\n    function on_click_closure(name) {\n        return function (_event) {\n            return fig.toolbar_button_onclick(name);\n        };\n    }\n\n    function on_mouseover_closure(tooltip) {\n        return function (event) {\n            if (!event.currentTarget.disabled) {\n                return fig.toolbar_button_onmouseover(tooltip);\n            }\n        };\n    }\n\n    fig.buttons = {};\n    var buttonGroup = document.createElement('div');\n    buttonGroup.classList = 'mpl-button-group';\n    for (var toolbar_ind in mpl.toolbar_items) {\n        var name = mpl.toolbar_items[toolbar_ind][0];\n        var tooltip = mpl.toolbar_items[toolbar_ind][1];\n        var image = mpl.toolbar_items[toolbar_ind][2];\n        var method_name = mpl.toolbar_items[toolbar_ind][3];\n\n        if (!name) {\n            /* Instead of a spacer, we start a new button group. */\n            if (buttonGroup.hasChildNodes()) {\n                toolbar.appendChild(buttonGroup);\n            }\n            buttonGroup = document.createElement('div');\n            buttonGroup.classList = 'mpl-button-group';\n            continue;\n        }\n\n        var button = (fig.buttons[name] = document.createElement('button'));\n        button.classList = 'mpl-widget';\n        button.setAttribute('role', 'button');\n        button.setAttribute('aria-disabled', 'false');\n        button.addEventListener('click', on_click_closure(method_name));\n        button.addEventListener('mouseover', on_mouseover_closure(tooltip));\n\n        var icon_img = document.createElement('img');\n        icon_img.src = '_images/' + image + '.png';\n        icon_img.srcset = '_images/' + image + '_large.png 2x';\n        icon_img.alt = tooltip;\n        button.appendChild(icon_img);\n\n        buttonGroup.appendChild(button);\n    }\n\n    if (buttonGroup.hasChildNodes()) {\n        toolbar.appendChild(buttonGroup);\n    }\n\n    var fmt_picker = document.createElement('select');\n    fmt_picker.classList = 'mpl-widget';\n    toolbar.appendChild(fmt_picker);\n    this.format_dropdown = fmt_picker;\n\n    for (var ind in mpl.extensions) {\n        var fmt = mpl.extensions[ind];\n        var option = document.createElement('option');\n        option.selected = fmt === mpl.default_extension;\n        option.innerHTML = fmt;\n        fmt_picker.appendChild(option);\n    }\n\n    var status_bar = document.createElement('span');\n    status_bar.classList = 'mpl-message';\n    toolbar.appendChild(status_bar);\n    this.message = status_bar;\n};\n\nmpl.figure.prototype.request_resize = function (x_pixels, y_pixels) {\n    // Request matplotlib to resize the figure. Matplotlib will then trigger a resize in the client,\n    // which will in turn request a refresh of the image.\n    this.send_message('resize', { width: x_pixels, height: y_pixels });\n};\n\nmpl.figure.prototype.send_message = function (type, properties) {\n    properties['type'] = type;\n    properties['figure_id'] = this.id;\n    this.ws.send(JSON.stringify(properties));\n};\n\nmpl.figure.prototype.send_draw_message = function () {\n    if (!this.waiting) {\n        this.waiting = true;\n        this.ws.send(JSON.stringify({ type: 'draw', figure_id: this.id }));\n    }\n};\n\nmpl.figure.prototype.handle_save = function (fig, _msg) {\n    var format_dropdown = fig.format_dropdown;\n    var format = format_dropdown.options[format_dropdown.selectedIndex].value;\n    fig.ondownload(fig, format);\n};\n\nmpl.figure.prototype.handle_resize = function (fig, msg) {\n    var size = msg['size'];\n    if (size[0] !== fig.canvas.width || size[1] !== fig.canvas.height) {\n        fig._resize_canvas(size[0], size[1], msg['forward']);\n        fig.send_message('refresh', {});\n    }\n};\n\nmpl.figure.prototype.handle_rubberband = function (fig, msg) {\n    var x0 = msg['x0'] / fig.ratio;\n    var y0 = (fig.canvas.height - msg['y0']) / fig.ratio;\n    var x1 = msg['x1'] / fig.ratio;\n    var y1 = (fig.canvas.height - msg['y1']) / fig.ratio;\n    x0 = Math.floor(x0) + 0.5;\n    y0 = Math.floor(y0) + 0.5;\n    x1 = Math.floor(x1) + 0.5;\n    y1 = Math.floor(y1) + 0.5;\n    var min_x = Math.min(x0, x1);\n    var min_y = Math.min(y0, y1);\n    var width = Math.abs(x1 - x0);\n    var height = Math.abs(y1 - y0);\n\n    fig.rubberband_context.clearRect(\n        0,\n        0,\n        fig.canvas.width / fig.ratio,\n        fig.canvas.height / fig.ratio\n    );\n\n    fig.rubberband_context.strokeRect(min_x, min_y, width, height);\n};\n\nmpl.figure.prototype.handle_figure_label = function (fig, msg) {\n    // Updates the figure title.\n    fig.header.textContent = msg['label'];\n};\n\nmpl.figure.prototype.handle_cursor = function (fig, msg) {\n    fig.canvas_div.style.cursor = msg['cursor'];\n};\n\nmpl.figure.prototype.handle_message = function (fig, msg) {\n    fig.message.textContent = msg['message'];\n};\n\nmpl.figure.prototype.handle_draw = function (fig, _msg) {\n    // Request the server to send over a new figure.\n    fig.send_draw_message();\n};\n\nmpl.figure.prototype.handle_image_mode = function (fig, msg) {\n    fig.image_mode = msg['mode'];\n};\n\nmpl.figure.prototype.handle_history_buttons = function (fig, msg) {\n    for (var key in msg) {\n        if (!(key in fig.buttons)) {\n            continue;\n        }\n        fig.buttons[key].disabled = !msg[key];\n        fig.buttons[key].setAttribute('aria-disabled', !msg[key]);\n    }\n};\n\nmpl.figure.prototype.handle_navigate_mode = function (fig, msg) {\n    if (msg['mode'] === 'PAN') {\n        fig.buttons['Pan'].classList.add('active');\n        fig.buttons['Zoom'].classList.remove('active');\n    } else if (msg['mode'] === 'ZOOM') {\n        fig.buttons['Pan'].classList.remove('active');\n        fig.buttons['Zoom'].classList.add('active');\n    } else {\n        fig.buttons['Pan'].classList.remove('active');\n        fig.buttons['Zoom'].classList.remove('active');\n    }\n};\n\nmpl.figure.prototype.updated_canvas_event = function () {\n    // Called whenever the canvas gets updated.\n    this.send_message('ack', {});\n};\n\n// A function to construct a web socket function for onmessage handling.\n// Called in the figure constructor.\nmpl.figure.prototype._make_on_message_function = function (fig) {\n    return function socket_on_message(evt) {\n        if (evt.data instanceof Blob) {\n            var img = evt.data;\n            if (img.type !== 'image/png') {\n                /* FIXME: We get \"Resource interpreted as Image but\n                 * transferred with MIME type text/plain:\" errors on\n                 * Chrome.  But how to set the MIME type?  It doesn't seem\n                 * to be part of the websocket stream */\n                img.type = 'image/png';\n            }\n\n            /* Free the memory for the previous frames */\n            if (fig.imageObj.src) {\n                (window.URL || window.webkitURL).revokeObjectURL(\n                    fig.imageObj.src\n                );\n            }\n\n            fig.imageObj.src = (window.URL || window.webkitURL).createObjectURL(\n                img\n            );\n            fig.updated_canvas_event();\n            fig.waiting = false;\n            return;\n        } else if (\n            typeof evt.data === 'string' &&\n            evt.data.slice(0, 21) === 'data:image/png;base64'\n        ) {\n            fig.imageObj.src = evt.data;\n            fig.updated_canvas_event();\n            fig.waiting = false;\n            return;\n        }\n\n        var msg = JSON.parse(evt.data);\n        var msg_type = msg['type'];\n\n        // Call the  \"handle_{type}\" callback, which takes\n        // the figure and JSON message as its only arguments.\n        try {\n            var callback = fig['handle_' + msg_type];\n        } catch (e) {\n            console.log(\n                \"No handler for the '\" + msg_type + \"' message type: \",\n                msg\n            );\n            return;\n        }\n\n        if (callback) {\n            try {\n                // console.log(\"Handling '\" + msg_type + \"' message: \", msg);\n                callback(fig, msg);\n            } catch (e) {\n                console.log(\n                    \"Exception inside the 'handler_\" + msg_type + \"' callback:\",\n                    e,\n                    e.stack,\n                    msg\n                );\n            }\n        }\n    };\n};\n\nfunction getModifiers(event) {\n    var mods = [];\n    if (event.ctrlKey) {\n        mods.push('ctrl');\n    }\n    if (event.altKey) {\n        mods.push('alt');\n    }\n    if (event.shiftKey) {\n        mods.push('shift');\n    }\n    if (event.metaKey) {\n        mods.push('meta');\n    }\n    return mods;\n}\n\n/*\n * return a copy of an object with only non-object keys\n * we need this to avoid circular references\n * https://stackoverflow.com/a/24161582/3208463\n */\nfunction simpleKeys(original) {\n    return Object.keys(original).reduce(function (obj, key) {\n        if (typeof original[key] !== 'object') {\n            obj[key] = original[key];\n        }\n        return obj;\n    }, {});\n}\n\nmpl.figure.prototype.mouse_event = function (event, name) {\n    if (name === 'button_press') {\n        this.canvas.focus();\n        this.canvas_div.focus();\n    }\n\n    // from https://stackoverflow.com/q/1114465\n    var boundingRect = this.canvas.getBoundingClientRect();\n    var x = (event.clientX - boundingRect.left) * this.ratio;\n    var y = (event.clientY - boundingRect.top) * this.ratio;\n\n    this.send_message(name, {\n        x: x,\n        y: y,\n        button: event.button,\n        step: event.step,\n        modifiers: getModifiers(event),\n        guiEvent: simpleKeys(event),\n    });\n\n    return false;\n};\n\nmpl.figure.prototype._key_event_extra = function (_event, _name) {\n    // Handle any extra behaviour associated with a key event\n};\n\nmpl.figure.prototype.key_event = function (event, name) {\n    // Prevent repeat events\n    if (name === 'key_press') {\n        if (event.key === this._key) {\n            return;\n        } else {\n            this._key = event.key;\n        }\n    }\n    if (name === 'key_release') {\n        this._key = null;\n    }\n\n    var value = '';\n    if (event.ctrlKey && event.key !== 'Control') {\n        value += 'ctrl+';\n    }\n    else if (event.altKey && event.key !== 'Alt') {\n        value += 'alt+';\n    }\n    else if (event.shiftKey && event.key !== 'Shift') {\n        value += 'shift+';\n    }\n\n    value += 'k' + event.key;\n\n    this._key_event_extra(event, name);\n\n    this.send_message(name, { key: value, guiEvent: simpleKeys(event) });\n    return false;\n};\n\nmpl.figure.prototype.toolbar_button_onclick = function (name) {\n    if (name === 'download') {\n        this.handle_save(this, null);\n    } else {\n        this.send_message('toolbar_button', { name: name });\n    }\n};\n\nmpl.figure.prototype.toolbar_button_onmouseover = function (tooltip) {\n    this.message.textContent = tooltip;\n};\n\n///////////////// REMAINING CONTENT GENERATED BY embed_js.py /////////////////\n// prettier-ignore\nvar _JSXTOOLS_RESIZE_OBSERVER=function(A){var t,i=new WeakMap,n=new WeakMap,a=new WeakMap,r=new WeakMap,o=new Set;function s(e){if(!(this instanceof s))throw new TypeError(\"Constructor requires 'new' operator\");i.set(this,e)}function h(){throw new TypeError(\"Function is not a constructor\")}function c(e,t,i,n){e=0 in arguments?Number(arguments[0]):0,t=1 in arguments?Number(arguments[1]):0,i=2 in arguments?Number(arguments[2]):0,n=3 in arguments?Number(arguments[3]):0,this.right=(this.x=this.left=e)+(this.width=i),this.bottom=(this.y=this.top=t)+(this.height=n),Object.freeze(this)}function d(){t=requestAnimationFrame(d);var s=new WeakMap,p=new Set;o.forEach((function(t){r.get(t).forEach((function(i){var r=t instanceof window.SVGElement,o=a.get(t),d=r?0:parseFloat(o.paddingTop),f=r?0:parseFloat(o.paddingRight),l=r?0:parseFloat(o.paddingBottom),u=r?0:parseFloat(o.paddingLeft),g=r?0:parseFloat(o.borderTopWidth),m=r?0:parseFloat(o.borderRightWidth),w=r?0:parseFloat(o.borderBottomWidth),b=u+f,F=d+l,v=(r?0:parseFloat(o.borderLeftWidth))+m,W=g+w,y=r?0:t.offsetHeight-W-t.clientHeight,E=r?0:t.offsetWidth-v-t.clientWidth,R=b+v,z=F+W,M=r?t.width:parseFloat(o.width)-R-E,O=r?t.height:parseFloat(o.height)-z-y;if(n.has(t)){var k=n.get(t);if(k[0]===M&&k[1]===O)return}n.set(t,[M,O]);var S=Object.create(h.prototype);S.target=t,S.contentRect=new c(u,d,M,O),s.has(i)||(s.set(i,[]),p.add(i)),s.get(i).push(S)}))})),p.forEach((function(e){i.get(e).call(e,s.get(e),e)}))}return s.prototype.observe=function(i){if(i instanceof window.Element){r.has(i)||(r.set(i,new Set),o.add(i),a.set(i,window.getComputedStyle(i)));var n=r.get(i);n.has(this)||n.add(this),cancelAnimationFrame(t),t=requestAnimationFrame(d)}},s.prototype.unobserve=function(i){if(i instanceof window.Element&&r.has(i)){var n=r.get(i);n.has(this)&&(n.delete(this),n.size||(r.delete(i),o.delete(i))),n.size||r.delete(i),o.size||cancelAnimationFrame(t)}},A.DOMRectReadOnly=c,A.ResizeObserver=s,A.ResizeObserverEntry=h,A}; // eslint-disable-line\nmpl.toolbar_items = [[\"Home\", \"Reset original view\", \"fa fa-home\", \"home\"], [\"Back\", \"Back to previous view\", \"fa fa-arrow-left\", \"back\"], [\"Forward\", \"Forward to next view\", \"fa fa-arrow-right\", \"forward\"], [\"\", \"\", \"\", \"\"], [\"Pan\", \"Left button pans, Right button zooms\\nx/y fixes axis, CTRL fixes aspect\", \"fa fa-arrows\", \"pan\"], [\"Zoom\", \"Zoom to rectangle\\nx/y fixes axis\", \"fa fa-square-o\", \"zoom\"], [\"\", \"\", \"\", \"\"], [\"Download\", \"Download plot\", \"fa fa-floppy-o\", \"download\"]];\n\nmpl.extensions = [\"eps\", \"jpeg\", \"pgf\", \"pdf\", \"png\", \"ps\", \"raw\", \"svg\", \"tif\", \"webp\"];\n\nmpl.default_extension = \"png\";/* global mpl */\n\nvar comm_websocket_adapter = function (comm) {\n    // Create a \"websocket\"-like object which calls the given IPython comm\n    // object with the appropriate methods. Currently this is a non binary\n    // socket, so there is still some room for performance tuning.\n    var ws = {};\n\n    ws.binaryType = comm.kernel.ws.binaryType;\n    ws.readyState = comm.kernel.ws.readyState;\n    function updateReadyState(_event) {\n        if (comm.kernel.ws) {\n            ws.readyState = comm.kernel.ws.readyState;\n        } else {\n            ws.readyState = 3; // Closed state.\n        }\n    }\n    comm.kernel.ws.addEventListener('open', updateReadyState);\n    comm.kernel.ws.addEventListener('close', updateReadyState);\n    comm.kernel.ws.addEventListener('error', updateReadyState);\n\n    ws.close = function () {\n        comm.close();\n    };\n    ws.send = function (m) {\n        //console.log('sending', m);\n        comm.send(m);\n    };\n    // Register the callback with on_msg.\n    comm.on_msg(function (msg) {\n        //console.log('receiving', msg['content']['data'], msg);\n        var data = msg['content']['data'];\n        if (data['blob'] !== undefined) {\n            data = {\n                data: new Blob(msg['buffers'], { type: data['blob'] }),\n            };\n        }\n        // Pass the mpl event to the overridden (by mpl) onmessage function.\n        ws.onmessage(data);\n    });\n    return ws;\n};\n\nmpl.mpl_figure_comm = function (comm, msg) {\n    // This is the function which gets called when the mpl process\n    // starts-up an IPython Comm through the \"matplotlib\" channel.\n\n    var id = msg.content.data.id;\n    // Get hold of the div created by the display call when the Comm\n    // socket was opened in Python.\n    var element = document.getElementById(id);\n    var ws_proxy = comm_websocket_adapter(comm);\n\n    function ondownload(figure, _format) {\n        window.open(figure.canvas.toDataURL());\n    }\n\n    var fig = new mpl.figure(id, ws_proxy, ondownload, element);\n\n    // Call onopen now - mpl needs it, as it is assuming we've passed it a real\n    // web socket which is closed, not our websocket->open comm proxy.\n    ws_proxy.onopen();\n\n    fig.parent_element = element;\n    fig.cell_info = mpl.find_output_cell(\"<div id='\" + id + \"'></div>\");\n    if (!fig.cell_info) {\n        console.error('Failed to find cell for figure', id, fig);\n        return;\n    }\n    fig.cell_info[0].output_area.element.on(\n        'cleared',\n        { fig: fig },\n        fig._remove_fig_handler\n    );\n};\n\nmpl.figure.prototype.handle_close = function (fig, msg) {\n    var width = fig.canvas.width / fig.ratio;\n    fig.cell_info[0].output_area.element.off(\n        'cleared',\n        fig._remove_fig_handler\n    );\n    fig.resizeObserverInstance.unobserve(fig.canvas_div);\n\n    // Update the output cell to use the data from the current canvas.\n    fig.push_to_output();\n    var dataURL = fig.canvas.toDataURL();\n    // Re-enable the keyboard manager in IPython - without this line, in FF,\n    // the notebook keyboard shortcuts fail.\n    IPython.keyboard_manager.enable();\n    fig.parent_element.innerHTML =\n        '<img src=\"' + dataURL + '\" width=\"' + width + '\">';\n    fig.close_ws(fig, msg);\n};\n\nmpl.figure.prototype.close_ws = function (fig, msg) {\n    fig.send_message('closing', msg);\n    // fig.ws.close()\n};\n\nmpl.figure.prototype.push_to_output = function (_remove_interactive) {\n    // Turn the data on the canvas into data in the output cell.\n    var width = this.canvas.width / this.ratio;\n    var dataURL = this.canvas.toDataURL();\n    this.cell_info[1]['text/html'] =\n        '<img src=\"' + dataURL + '\" width=\"' + width + '\">';\n};\n\nmpl.figure.prototype.updated_canvas_event = function () {\n    // Tell IPython that the notebook contents must change.\n    IPython.notebook.set_dirty(true);\n    this.send_message('ack', {});\n    var fig = this;\n    // Wait a second, then push the new image to the DOM so\n    // that it is saved nicely (might be nice to debounce this).\n    setTimeout(function () {\n        fig.push_to_output();\n    }, 1000);\n};\n\nmpl.figure.prototype._init_toolbar = function () {\n    var fig = this;\n\n    var toolbar = document.createElement('div');\n    toolbar.classList = 'btn-toolbar';\n    this.root.appendChild(toolbar);\n\n    function on_click_closure(name) {\n        return function (_event) {\n            return fig.toolbar_button_onclick(name);\n        };\n    }\n\n    function on_mouseover_closure(tooltip) {\n        return function (event) {\n            if (!event.currentTarget.disabled) {\n                return fig.toolbar_button_onmouseover(tooltip);\n            }\n        };\n    }\n\n    fig.buttons = {};\n    var buttonGroup = document.createElement('div');\n    buttonGroup.classList = 'btn-group';\n    var button;\n    for (var toolbar_ind in mpl.toolbar_items) {\n        var name = mpl.toolbar_items[toolbar_ind][0];\n        var tooltip = mpl.toolbar_items[toolbar_ind][1];\n        var image = mpl.toolbar_items[toolbar_ind][2];\n        var method_name = mpl.toolbar_items[toolbar_ind][3];\n\n        if (!name) {\n            /* Instead of a spacer, we start a new button group. */\n            if (buttonGroup.hasChildNodes()) {\n                toolbar.appendChild(buttonGroup);\n            }\n            buttonGroup = document.createElement('div');\n            buttonGroup.classList = 'btn-group';\n            continue;\n        }\n\n        button = fig.buttons[name] = document.createElement('button');\n        button.classList = 'btn btn-default';\n        button.href = '#';\n        button.title = name;\n        button.innerHTML = '<i class=\"fa ' + image + ' fa-lg\"></i>';\n        button.addEventListener('click', on_click_closure(method_name));\n        button.addEventListener('mouseover', on_mouseover_closure(tooltip));\n        buttonGroup.appendChild(button);\n    }\n\n    if (buttonGroup.hasChildNodes()) {\n        toolbar.appendChild(buttonGroup);\n    }\n\n    // Add the status bar.\n    var status_bar = document.createElement('span');\n    status_bar.classList = 'mpl-message pull-right';\n    toolbar.appendChild(status_bar);\n    this.message = status_bar;\n\n    // Add the close button to the window.\n    var buttongrp = document.createElement('div');\n    buttongrp.classList = 'btn-group inline pull-right';\n    button = document.createElement('button');\n    button.classList = 'btn btn-mini btn-primary';\n    button.href = '#';\n    button.title = 'Stop Interaction';\n    button.innerHTML = '<i class=\"fa fa-power-off icon-remove icon-large\"></i>';\n    button.addEventListener('click', function (_evt) {\n        fig.handle_close(fig, {});\n    });\n    button.addEventListener(\n        'mouseover',\n        on_mouseover_closure('Stop Interaction')\n    );\n    buttongrp.appendChild(button);\n    var titlebar = this.root.querySelector('.ui-dialog-titlebar');\n    titlebar.insertBefore(buttongrp, titlebar.firstChild);\n};\n\nmpl.figure.prototype._remove_fig_handler = function (event) {\n    var fig = event.data.fig;\n    if (event.target !== this) {\n        // Ignore bubbled events from children.\n        return;\n    }\n    fig.close_ws(fig, {});\n};\n\nmpl.figure.prototype._root_extra_style = function (el) {\n    el.style.boxSizing = 'content-box'; // override notebook setting of border-box.\n};\n\nmpl.figure.prototype._canvas_extra_style = function (el) {\n    // this is important to make the div 'focusable\n    el.setAttribute('tabindex', 0);\n    // reach out to IPython and tell the keyboard manager to turn it's self\n    // off when our div gets focus\n\n    // location in version 3\n    if (IPython.notebook.keyboard_manager) {\n        IPython.notebook.keyboard_manager.register_events(el);\n    } else {\n        // location in version 2\n        IPython.keyboard_manager.register_events(el);\n    }\n};\n\nmpl.figure.prototype._key_event_extra = function (event, _name) {\n    // Check for shift+enter\n    if (event.shiftKey && event.which === 13) {\n        this.canvas_div.blur();\n        // select the cell after this one\n        var index = IPython.notebook.find_cell_index(this.cell_info[0]);\n        IPython.notebook.select(index + 1);\n    }\n};\n\nmpl.figure.prototype.handle_save = function (fig, _msg) {\n    fig.ondownload(fig, null);\n};\n\nmpl.find_output_cell = function (html_output) {\n    // Return the cell and output element which can be found *uniquely* in the notebook.\n    // Note - this is a bit hacky, but it is done because the \"notebook_saving.Notebook\"\n    // IPython event is triggered only after the cells have been serialised, which for\n    // our purposes (turning an active figure into a static one), is too late.\n    var cells = IPython.notebook.get_cells();\n    var ncells = cells.length;\n    for (var i = 0; i < ncells; i++) {\n        var cell = cells[i];\n        if (cell.cell_type === 'code') {\n            for (var j = 0; j < cell.output_area.outputs.length; j++) {\n                var data = cell.output_area.outputs[j];\n                if (data.data) {\n                    // IPython >= 3 moved mimebundle to data attribute of output\n                    data = data.data;\n                }\n                if (data['text/html'] === html_output) {\n                    return [cell, data, j];\n                }\n            }\n        }\n    }\n};\n\n// Register the function which deals with the matplotlib target/channel.\n// The kernel may be null if the page has been refreshed.\nif (IPython.notebook.kernel !== null) {\n    IPython.notebook.kernel.comm_manager.register_target(\n        'matplotlib',\n        mpl.mpl_figure_comm\n    );\n}\n"
     },
     "metadata": {},
     "output_type": "display_data"
    },
    {
     "data": {
      "text/plain": "<IPython.core.display.HTML object>",
      "text/html": "<div id='4f5ee61f-b187-49ae-97af-197acfd024f0'></div>"
     },
     "metadata": {},
     "output_type": "display_data"
    },
    {
     "name": "stdout",
     "output_type": "stream",
     "text": [
      "torch.Size([1, 3, 3]) torch.Size([1, 3]) torch.Size([1, 778, 3])\n"
     ]
    }
   ],
   "source": [
    "verts_xyz = hand_model.forward(\n",
    "    betas=manos['shape'],\n",
    "    global_orient=manos['root_pose'],\n",
    "    hand_pose=manos['hand_pose'],\n",
    "    transl=manos['trans'],\n",
    ").vertices\n",
    "print(campos.shape)\n",
    "%matplotlib notebook\n",
    "\n",
    "campos = camera_params['campos']/1000000\n",
    "print(camera_params['campos'])\n",
    "\n",
    "# plot the vertices as 3d points\n",
    "fig = plt.figure(figsize=(5, 5))\n",
    "ax = fig.add_subplot(111, projection='3d')\n",
    "\n",
    "print(R_mat.shape, t_mat.shape, verts_xyz.shape)\n",
    "\n",
    "# plot vertices as matplotlib mesh\n",
    "# verts_projected = np.dot(R_mat[0], verts_xyz[0].transpose(1,0)).transpose(1,0) + t_mat.reshape(1,3).numpy()\n",
    "\n",
    "# ax.scatter(verts_projected[0, :, 0], verts_projected[0, :, 1], verts_projected[0, :, 2], s=2)\n",
    "\n",
    "# verts_xyz *= 1000\n",
    "ax.scatter(verts_xyz[0,:, 0], verts_xyz[0,:, 1], verts_xyz[0,:, 2], s=2)\n",
    "\n",
    "# campos *= 1000\n",
    "ax.scatter(-campos[0, 0], -campos[0, 1], campos[0, 2], s=10)\n",
    "\n",
    "ax.set_xlabel('X')\n",
    "ax.set_ylabel('Y')\n",
    "ax.set_zlabel('Z')\n",
    "plt.show()"
   ],
   "metadata": {
    "collapsed": false,
    "ExecuteTime": {
     "start_time": "2023-07-22T19:24:07.941361Z",
     "end_time": "2023-07-22T19:24:08.033661Z"
    }
   }
  },
  {
   "cell_type": "code",
   "execution_count": 91,
   "outputs": [
    {
     "name": "stdout",
     "output_type": "stream",
     "text": [
      "[[1.2653059e+03 0.0000000e+00 1.9899142e+02]\n",
      " [0.0000000e+00 1.2658390e+03 2.2658598e+02]\n",
      " [0.0000000e+00 0.0000000e+00 1.0000000e+00]]\n",
      "(778, 3) (3, 3) (1, 3) (3, 3)\n",
      "float32 float32 float32 float32\n",
      "torch.Size([1, 3, 3])\n"
     ]
    },
    {
     "data": {
      "text/plain": "<matplotlib.collections.PathCollection at 0x7f6d0c04c3a0>"
     },
     "execution_count": 91,
     "metadata": {},
     "output_type": "execute_result"
    },
    {
     "data": {
      "text/plain": "<Figure size 500x500 with 1 Axes>",
      "image/png": "[encoded data removed]"
     },
     "metadata": {},
     "output_type": "display_data"
    }
   ],
   "source": [
    "import cv2 as cv\n",
    "print(camera_params['intrinsic_mat'][0].numpy())\n",
    "print(verts_xyz[0].numpy().shape, R_mat[0].numpy().shape, t_mat.numpy().shape, camera_params['intrinsic_mat'][0].numpy().shape)\n",
    "print(verts_xyz[0].numpy().dtype, R_mat[0].numpy().dtype, t_mat.numpy().dtype, camera_params['intrinsic_mat'][0].numpy().dtype)\n",
    "\n",
    "from pytorch3d.transforms.so3 import so3_exponential_map, so3_log_map\n",
    "print(R_mat.shape)\n",
    "rot_vec = so3_log_map(R_mat)\n",
    "\n",
    "\n",
    "imagePoints = cv.projectPoints(verts_xyz[0].numpy(), rot_vec[0].numpy(), t_mat.numpy(), camera_params['intrinsic_mat'][0].numpy(), np.zeros(4, dtype=np.float32))[0]\n",
    "\n",
    "# plot image points\n",
    "%matplotlib inline\n",
    "fig = plt.figure(figsize=(5, 5))\n",
    "ax = fig.add_subplot(111)\n",
    "\n",
    "ax.scatter(-imagePoints[:, 0, 0], -imagePoints[:, 0, 1], s=2)\n"
   ],
   "metadata": {
    "collapsed": false,
    "ExecuteTime": {
     "start_time": "2023-07-22T18:29:18.256730Z",
     "end_time": "2023-07-22T18:29:18.526463Z"
    }
   }
  },
  {
   "cell_type": "code",
   "execution_count": null,
   "outputs": [],
   "source": [],
   "metadata": {
    "collapsed": false
   }
  }
 ],
 "metadata": {
  "kernelspec": {
   "display_name": "Python 3",
   "language": "python",
   "name": "python3"
  },
  "language_info": {
   "codemirror_mode": {
    "name": "ipython",
    "version": 2
   },
   "file_extension": ".py",
   "mimetype": "text/x-python",
   "name": "python",
   "nbconvert_exporter": "python",
   "pygments_lexer": "ipython2",
   "version": "2.7.6"
  }
 },
 "nbformat": 4,
 "nbformat_minor": 0
}
